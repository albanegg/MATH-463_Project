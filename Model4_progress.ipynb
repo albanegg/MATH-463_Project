{
 "cells": [
  {
   "cell_type": "code",
   "execution_count": null,
   "id": "ce4f2717-6565-4bd5-9d43-5d6a08ec5f83",
   "metadata": {},
   "outputs": [],
   "source": [
    "from IPython.core.display_functions import display\n",
    "import biogeme.biogeme as bio\n",
    "from biogeme.expressions import Beta\n",
    "from biogeme.models import loglogit\n",
    "from biogeme.results import calc_p_value, compile_estimation_results\n",
    "from scipy.stats import chi2\n",
    "from scipy.stats import norm\n",
    "\n",
    "\n",
    "from biogeme.biogeme_logging import get_screen_logger, INFO\n",
    "from biogeme.expressions import Beta\n",
    "from biogeme.models import lognested, logcnl\n",
    "from biogeme.nests import (\n",
    "    OneNestForNestedLogit,\n",
    "    NestsForNestedLogit,\n",
    "    OneNestForCrossNestedLogit,\n",
    "    NestsForCrossNestedLogit,\n",
    ")\n",
    "from models.logit_lmpc12_model4 import V_1, av, chosen_alternative, database \n"
   ]
  },
  {
   "cell_type": "code",
   "execution_count": 2,
   "id": "300e079d-e53b-4fe9-acb4-fafe638e60a6",
   "metadata": {},
   "outputs": [],
   "source": [
    "logger = get_screen_logger(level=INFO)\n"
   ]
  },
  {
   "cell_type": "code",
   "execution_count": 3,
   "id": "7812eb9f-8c04-4b48-955b-baf901cdd29a",
   "metadata": {},
   "outputs": [],
   "source": [
    "mu_motorized = Beta('mu_motorized', 3, 1, None, 0)\n",
    "mu_private = Beta('mu_private', 3, 1, None, 0)\n",
    "\n",
    "alpha_car_motorized = Beta('alpha_car_motorized', 0.5, 0, 1, 0)\n",
    "alpha_car_private = 1 - alpha_car_motorized\n",
    "\n",
    "alpha_motorized = {1: alpha_car_motorized, 2: 0.0, 3: 1.0}\n",
    "alpha_private = {1: alpha_car_private, 2: 1.0, 3: 0.0}\n",
    "\n",
    "nest_motorized = OneNestForCrossNestedLogit(\n",
    "    nest_param=mu_motorized,\n",
    "    dict_of_alpha=alpha_motorized,\n",
    "    name='motorized',\n",
    ")\n",
    "nest_private = OneNestForCrossNestedLogit(\n",
    "    nest_param=mu_private,\n",
    "    dict_of_alpha=alpha_private,\n",
    "    name='private',\n",
    ")\n",
    "\n",
    "nests = NestsForCrossNestedLogit(\n",
    "    choice_set=[1, 2, 3], tuple_of_nests=(nest_motorized, nest_private)\n",
    ")\n"
   ]
  },
  {
   "cell_type": "code",
   "execution_count": null,
   "id": "be734e7a-ca8b-46f9-afff-b66d07e8066b",
   "metadata": {},
   "outputs": [
    {
     "ename": "BiogemeError",
     "evalue": "The argument of bioMultSum cannot be empty",
     "output_type": "error",
     "traceback": [
      "\u001b[0;31m---------------------------------------------------------------------------\u001b[0m",
      "\u001b[0;31mBiogemeError\u001b[0m                              Traceback (most recent call last)",
      "Cell \u001b[0;32mIn[6], line 1\u001b[0m\n\u001b[0;32m----> 1\u001b[0m logprob_cnl \u001b[38;5;241m=\u001b[39m logcnl(V_1, \u001b[38;5;28;01mNone\u001b[39;00m, nests, chosen_alternative)\n\u001b[1;32m      2\u001b[0m biogeme_cnl \u001b[38;5;241m=\u001b[39m BIOGEME(database, logprob_cnl)\n\u001b[1;32m      3\u001b[0m biogeme_cnl\u001b[38;5;241m.\u001b[39mmodelName \u001b[38;5;241m=\u001b[39m \u001b[38;5;124m'\u001b[39m\u001b[38;5;124mcnl\u001b[39m\u001b[38;5;124m'\u001b[39m\n",
      "File \u001b[0;32m~/anaconda3/envs/new_biogeme_env/lib/python3.11/site-packages/biogeme/models/cnl.py:194\u001b[0m, in \u001b[0;36mlogcnl\u001b[0;34m(util, availability, nests, choice)\u001b[0m\n\u001b[1;32m    168\u001b[0m \u001b[38;5;28;01mdef\u001b[39;00m \u001b[38;5;21mlogcnl\u001b[39m(\n\u001b[1;32m    169\u001b[0m     util: \u001b[38;5;28mdict\u001b[39m[\u001b[38;5;28mint\u001b[39m, ExpressionOrNumeric],\n\u001b[1;32m    170\u001b[0m     availability: \u001b[38;5;28mdict\u001b[39m[\u001b[38;5;28mint\u001b[39m, ExpressionOrNumeric] \u001b[38;5;241m|\u001b[39m \u001b[38;5;28;01mNone\u001b[39;00m,\n\u001b[1;32m    171\u001b[0m     nests: NestsForCrossNestedLogit \u001b[38;5;241m|\u001b[39m OldNestsForCrossNestedLogit,\n\u001b[1;32m    172\u001b[0m     choice: ExpressionOrNumeric,\n\u001b[1;32m    173\u001b[0m ) \u001b[38;5;241m-\u001b[39m\u001b[38;5;241m>\u001b[39m Expression:\n\u001b[1;32m    174\u001b[0m \u001b[38;5;250m    \u001b[39m\u001b[38;5;124;03m\"\"\"Implements the log of the cross-nested logit model as a MEV model.\u001b[39;00m\n\u001b[1;32m    175\u001b[0m \n\u001b[1;32m    176\u001b[0m \u001b[38;5;124;03m    :param util: dict of objects representing the utility functions of\u001b[39;00m\n\u001b[0;32m   (...)\u001b[0m\n\u001b[1;32m    191\u001b[0m \u001b[38;5;124;03m    :raise BiogemeError: if the definition of the nests is invalid.\u001b[39;00m\n\u001b[1;32m    192\u001b[0m \u001b[38;5;124;03m    \"\"\"\u001b[39;00m\n\u001b[0;32m--> 194\u001b[0m     log_gi \u001b[38;5;241m=\u001b[39m get_mev_for_cross_nested(util, availability, nests)\n\u001b[1;32m    195\u001b[0m     log_p \u001b[38;5;241m=\u001b[39m logmev(util, log_gi, availability, choice)\n\u001b[1;32m    196\u001b[0m     \u001b[38;5;28;01mreturn\u001b[39;00m log_p\n",
      "File \u001b[0;32m~/anaconda3/envs/new_biogeme_env/lib/python3.11/site-packages/biogeme/models/cnl.py:155\u001b[0m, in \u001b[0;36mget_mev_for_cross_nested\u001b[0;34m(util, availability, nests)\u001b[0m\n\u001b[1;32m    149\u001b[0m         gi_terms[i] \u001b[38;5;241m+\u001b[39m\u001b[38;5;241m=\u001b[39m [\n\u001b[1;32m    150\u001b[0m             a\u001b[38;5;241m*\u001b[39m\u001b[38;5;241m*\u001b[39mm\u001b[38;5;241m.\u001b[39mnest_param\n\u001b[1;32m    151\u001b[0m             \u001b[38;5;241m*\u001b[39m exp((m\u001b[38;5;241m.\u001b[39mnest_param \u001b[38;5;241m-\u001b[39m \u001b[38;5;241m1\u001b[39m) \u001b[38;5;241m*\u001b[39m (util[i]))\n\u001b[1;32m    152\u001b[0m             \u001b[38;5;241m*\u001b[39m biosum \u001b[38;5;241m*\u001b[39m\u001b[38;5;241m*\u001b[39m ((\u001b[38;5;241m1.0\u001b[39m \u001b[38;5;241m-\u001b[39m m\u001b[38;5;241m.\u001b[39mnest_param) \u001b[38;5;241m/\u001b[39m m\u001b[38;5;241m.\u001b[39mnest_param)\n\u001b[1;32m    153\u001b[0m         ]\n\u001b[1;32m    154\u001b[0m \u001b[38;5;28;01mfor\u001b[39;00m k, G \u001b[38;5;129;01min\u001b[39;00m gi_terms\u001b[38;5;241m.\u001b[39mitems():\n\u001b[0;32m--> 155\u001b[0m     log_gi[k] \u001b[38;5;241m=\u001b[39m logzero(bioMultSum(G))\n\u001b[1;32m    156\u001b[0m \u001b[38;5;28;01mreturn\u001b[39;00m log_gi\n",
      "File \u001b[0;32m~/anaconda3/envs/new_biogeme_env/lib/python3.11/site-packages/biogeme/expressions/nary_expressions.py:181\u001b[0m, in \u001b[0;36mbioMultSum.__init__\u001b[0;34m(self, list_of_expressions)\u001b[0m\n\u001b[1;32m    167\u001b[0m \u001b[38;5;250m\u001b[39m\u001b[38;5;124;03m\"\"\"Constructor\u001b[39;00m\n\u001b[1;32m    168\u001b[0m \n\u001b[1;32m    169\u001b[0m \u001b[38;5;124;03m:param list_of_expressions: list of objects representing the\u001b[39;00m\n\u001b[0;32m   (...)\u001b[0m\n\u001b[1;32m    178\u001b[0m \u001b[38;5;124;03m:raise BiogemeError: if the list of expressions is neither a dict nor a list\u001b[39;00m\n\u001b[1;32m    179\u001b[0m \u001b[38;5;124;03m\"\"\"\u001b[39;00m\n\u001b[1;32m    180\u001b[0m \u001b[38;5;28;01mif\u001b[39;00m \u001b[38;5;129;01mnot\u001b[39;00m list_of_expressions:\n\u001b[0;32m--> 181\u001b[0m     \u001b[38;5;28;01mraise\u001b[39;00m BiogemeError(\u001b[38;5;124m'\u001b[39m\u001b[38;5;124mThe argument of bioMultSum cannot be empty\u001b[39m\u001b[38;5;124m'\u001b[39m)\n\u001b[1;32m    183\u001b[0m Expression\u001b[38;5;241m.\u001b[39m\u001b[38;5;21m__init__\u001b[39m(\u001b[38;5;28mself\u001b[39m)\n\u001b[1;32m    185\u001b[0m \u001b[38;5;28;01mif\u001b[39;00m \u001b[38;5;28misinstance\u001b[39m(list_of_expressions, \u001b[38;5;28mdict\u001b[39m):\n",
      "\u001b[0;31mBiogemeError\u001b[0m: The argument of bioMultSum cannot be empty"
     ]
    }
   ],
   "source": [
    "logprob_cnl = logcnl(V_1, av, nests, chosen_alternative)\n",
    "biogeme_cnl = bio.BIOGEME(database, logprob_cnl)\n",
    "biogeme_cnl.modelName = 'cnl'\n"
   ]
  },
  {
   "cell_type": "code",
   "execution_count": null,
   "id": "a7671dd1-7777-4fb7-9dd5-47ecc9841de5",
   "metadata": {},
   "outputs": [],
   "source": []
  }
 ],
 "metadata": {
  "kernelspec": {
   "display_name": "Python 3 (ipykernel)",
   "language": "python",
   "name": "python3"
  },
  "language_info": {
   "codemirror_mode": {
    "name": "ipython",
    "version": 3
   },
   "file_extension": ".py",
   "mimetype": "text/x-python",
   "name": "python",
   "nbconvert_exporter": "python",
   "pygments_lexer": "ipython3",
   "version": "3.11.5"
  }
 },
 "nbformat": 4,
 "nbformat_minor": 5
}
